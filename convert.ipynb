{
  "nbformat": 4,
  "nbformat_minor": 0,
  "metadata": {
    "colab": {
      "provenance": []
    },
    "kernelspec": {
      "name": "python3",
      "display_name": "Python 3"
    },
    "language_info": {
      "name": "python"
    }
  },
  "cells": [
    {
      "cell_type": "code",
      "execution_count": 40,
      "metadata": {
        "colab": {
          "base_uri": "https://localhost:8080/"
        },
        "id": "EZI2ibNNlXE9",
        "outputId": "16f60aaa-e7af-42ec-cca3-f49ef02e82e0"
      },
      "outputs": [
        {
          "output_type": "stream",
          "name": "stdout",
          "text": [
            "Drive already mounted at /content/drive; to attempt to forcibly remount, call drive.mount(\"/content/drive\", force_remount=True).\n"
          ]
        }
      ],
      "source": [
        "from google.colab import drive\n",
        "drive.mount(\"/content/drive\")\n",
        "\n",
        "import os\n",
        "os.chdir('/content/drive/MyDrive/JPG cv2 PDF')"
      ]
    },
    {
      "cell_type": "markdown",
      "source": [
        "# JPG"
      ],
      "metadata": {
        "id": "gyHTAe01wt8f"
      }
    },
    {
      "cell_type": "code",
      "source": [
        "from PIL import Image\n",
        "import os\n",
        "\n",
        "# 設定圖片所在的資料夾\n",
        "image_folder = \"dog\"  # 例如: \"images\"\n",
        "\n",
        "# 取得資料夾中所有 JPG / JPEG / PNG 圖片，並排序\n",
        "image_files = sorted([\n",
        "    f for f in os.listdir(image_folder)\n",
        "    if f.lower().endswith((\".jpg\", \".jpeg\", \".png\"))\n",
        "])\n",
        "\n",
        "# 將所有圖片讀取為 PIL.Image 物件並轉為 RGB（避免 PDF 儲存錯誤）\n",
        "images = [Image.open(os.path.join(image_folder, file)).convert(\"RGB\") for file in image_files]\n",
        "\n",
        "print(f\"找到 {len(images)} 張圖片。\")"
      ],
      "metadata": {
        "id": "E7fOn8u3lX6L"
      },
      "execution_count": null,
      "outputs": []
    },
    {
      "cell_type": "code",
      "source": [
        "# 根據資料夾名稱產生 PDF 檔名\n",
        "pdf_path = f\"{os.path.basename(image_folder)}.pdf\"\n",
        "\n",
        "# 儲存為 PDF\n",
        "if images:\n",
        "    images[0].save(pdf_path, save_all=True, append_images=images[1:])\n",
        "    print(f\"✅ PDF 成功儲存為：{pdf_path}\")\n",
        "else:\n",
        "    print(\"⚠️ 找不到任何 JPG 圖片。\")"
      ],
      "metadata": {
        "id": "9W4mGxcBlX9a"
      },
      "execution_count": null,
      "outputs": []
    }
  ]
}