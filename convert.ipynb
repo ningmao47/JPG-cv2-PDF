{
  "nbformat": 4,
  "nbformat_minor": 0,
  "metadata": {
    "colab": {
      "provenance": []
    },
    "kernelspec": {
      "name": "python3",
      "display_name": "Python 3"
    },
    "language_info": {
      "name": "python"
    }
  },
  "cells": [
    {
      "cell_type": "code",
      "execution_count": 1,
      "metadata": {
        "colab": {
          "base_uri": "https://localhost:8080/"
        },
        "id": "EZI2ibNNlXE9",
        "outputId": "1b69cf0b-4268-46ce-b919-93c917ab02e9"
      },
      "outputs": [
        {
          "output_type": "stream",
          "name": "stdout",
          "text": [
            "Drive already mounted at /content/drive; to attempt to forcibly remount, call drive.mount(\"/content/drive\", force_remount=True).\n"
          ]
        }
      ],
      "source": [
        "from google.colab import drive\n",
        "drive.mount(\"/content/drive\")\n",
        "\n",
        "import os\n",
        "os.chdir('/content/drive/MyDrive/JPG cv2 PDF')"
      ]
    },
    {
      "cell_type": "markdown",
      "source": [
        "# JPG"
      ],
      "metadata": {
        "id": "gyHTAe01wt8f"
      }
    },
    {
      "cell_type": "code",
      "source": [
        "# 單檔案轉檔\n",
        "from PIL import Image\n",
        "import os\n",
        "\n",
        "# 想要轉換的資料夾清單\n",
        "folders = [\n",
        "    \"xxx\",\n",
        "]\n",
        "\n",
        "for image_folder in folders:\n",
        "    # 取得資料夾中所有 JPG / JPEG / PNG 圖片，並排序\n",
        "    image_files = sorted([\n",
        "        f for f in os.listdir(image_folder)\n",
        "        if f.lower().endswith((\".jpg\", \".jpeg\", \".png\"))\n",
        "    ])\n",
        "\n",
        "    # 將所有圖片讀取為 PIL.Image 物件並轉為 RGB\n",
        "    images = [Image.open(os.path.join(image_folder, file)).convert(\"RGB\") for file in image_files]\n",
        "\n",
        "    print(f\"📂 {image_folder} 找到 {len(images)} 張圖片。\")\n",
        "\n",
        "    # 根據資料夾名稱產生 PDF 檔名\n",
        "    pdf_path = f\"{os.path.basename(image_folder)}.pdf\"\n",
        "\n",
        "    # 儲存為 PDF\n",
        "    if images:\n",
        "        images[0].save(pdf_path, save_all=True, append_images=images[1:])\n",
        "        print(f\"✅ {pdf_path} 已成功建立\")\n",
        "    else:\n",
        "        print(f\"⚠️ {image_folder} 找不到任何圖片\")"
      ],
      "metadata": {
        "id": "uq9dh03jZcpJ"
      },
      "execution_count": 2,
      "outputs": []
    },
    {
      "cell_type": "code",
      "source": [
        "# 子資料夾轉檔\n",
        "from PIL import Image\n",
        "import os\n",
        "\n",
        "# 總資料夾名稱\n",
        "parent_folder = \"xxx\"\n",
        "\n",
        "# 取得 parent_folder 底下所有子資料夾\n",
        "subfolders = [f.path for f in os.scandir(parent_folder) if f.is_dir()]\n",
        "\n",
        "# 印出子資料夾數量\n",
        "print(f\"📂 總共有 {len(subfolders)} 個子資料夾需要轉換\")\n",
        "\n",
        "for image_folder in subfolders:\n",
        "    # 取得子資料夾中的所有 JPG / JPEG / PNG 圖片，並排序\n",
        "    image_files = sorted([\n",
        "        f for f in os.listdir(image_folder)\n",
        "        if f.lower().endswith((\".jpg\", \".jpeg\", \".png\"))\n",
        "    ])\n",
        "\n",
        "    # 將圖片轉成完整路徑並打開\n",
        "    images = [Image.open(os.path.join(image_folder, file)).convert(\"RGB\") for file in image_files]\n",
        "\n",
        "    print(f\"📂 {image_folder} 找到 {len(images)} 張圖片。\")\n",
        "\n",
        "    # PDF 檔名用子資料夾名稱\n",
        "    folder_name = os.path.basename(image_folder)\n",
        "    pdf_path = f\"{folder_name}.pdf\"\n",
        "\n",
        "    # 儲存為 PDF\n",
        "    if images:\n",
        "        images[0].save(pdf_path, save_all=True, append_images=images[1:])\n",
        "        print(f\"✅ {pdf_path} 已成功建立\")\n",
        "    else:\n",
        "        print(f\"⚠️ {image_folder} 找不到任何圖片\")\n"
      ],
      "metadata": {
        "id": "zJVAs5x5h0mA"
      },
      "execution_count": null,
      "outputs": []
    }
  ]
}